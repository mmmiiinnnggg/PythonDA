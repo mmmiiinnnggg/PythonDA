{
 "cells": [
  {
   "cell_type": "code",
   "execution_count": 1,
   "id": "378d316f",
   "metadata": {},
   "outputs": [],
   "source": [
    "import matplotlib.pyplot as plt\n",
    "import pandas as pd\n",
    "import numpy as np"
   ]
  },
  {
   "cell_type": "code",
   "execution_count": 4,
   "id": "863809e4",
   "metadata": {},
   "outputs": [],
   "source": [
    "data = [np.random.rand()*100 for x in range(100)]"
   ]
  },
  {
   "cell_type": "code",
   "execution_count": 12,
   "id": "9083780f",
   "metadata": {},
   "outputs": [
    {
     "data": {
      "image/png": "[encoded data removed]",
      "text/plain": [
       "<Figure size 1080x360 with 1 Axes>"
      ]
     },
     "metadata": {
      "needs_background": "light"
     },
     "output_type": "display_data"
    },
    {
     "name": "stdout",
     "output_type": "stream",
     "text": [
      "[ 8.  4.  3.  6. 13.  7.  7.  3.  3.  5.  5.  5.  3.  3.  4.  7.  1.  4.\n",
      "  5.  4.]\n",
      "[ 0.45898947  5.4245601  10.39013072 15.35570135 20.32127197 25.2868426\n",
      " 30.25241322 35.21798385 40.18355447 45.1491251  50.11469573 55.08026635\n",
      " 60.04583698 65.0114076  69.97697823 74.94254885 79.90811948 84.8736901\n",
      " 89.83926073 94.80483135 99.77040198]\n",
      "<BarContainer object of 20 artists>\n"
     ]
    }
   ],
   "source": [
    "plt.figure(figsize=(15,5))\n",
    "nums, bins, patches = plt.hist(data, bins = 20,edgecolor = 'k') # bin = [0,25,50,75,100]\n",
    "\n",
    "bins1 = np.around(bins,decimals =2 )#保留两位小数\n",
    "plt.xticks(bins1,bins1)\n",
    "plt.show()\n",
    "\n",
    "print(nums)\n",
    "print(bins)\n",
    "print(patches)\n"
   ]
  },
  {
   "cell_type": "code",
   "execution_count": null,
   "id": "c8aaf555",
   "metadata": {},
   "outputs": [],
   "source": []
  }
 ],
 "metadata": {
  "kernelspec": {
   "display_name": "Python 3",
   "language": "python",
   "name": "python3"
  },
  "language_info": {
   "codemirror_mode": {
    "name": "ipython",
    "version": 3
   },
   "file_extension": ".py",
   "mimetype": "text/x-python",
   "name": "python",
   "nbconvert_exporter": "python",
   "pygments_lexer": "ipython3",
   "version": "3.8.8"
  }
 },
 "nbformat": 4,
 "nbformat_minor": 5
}
