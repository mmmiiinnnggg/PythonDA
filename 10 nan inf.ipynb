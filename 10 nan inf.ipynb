{
 "cells": [
  {
   "cell_type": "code",
   "execution_count": 1,
   "id": "196254b2",
   "metadata": {},
   "outputs": [],
   "source": [
    "import numpy as np"
   ]
  },
  {
   "cell_type": "code",
   "execution_count": 3,
   "id": "d9478e23",
   "metadata": {},
   "outputs": [
    {
     "data": {
      "text/plain": [
       "array([[6, 7, 2, 4, 6],\n",
       "       [9, 7, 4, 1, 0],\n",
       "       [1, 3, 4, 4, 1]])"
      ]
     },
     "execution_count": 3,
     "metadata": {},
     "output_type": "execute_result"
    }
   ],
   "source": [
    "data = np.random.randint(0,10,size=(3,5))\n",
    "data"
   ]
  },
  {
   "cell_type": "code",
   "execution_count": 9,
   "id": "d7bf87e3",
   "metadata": {},
   "outputs": [
    {
     "data": {
      "text/plain": [
       "array([[ 6., nan,  2.,  4.,  6.],\n",
       "       [ 9.,  7.,  4.,  1.,  0.],\n",
       "       [ 1.,  3.,  4.,  4.,  1.]])"
      ]
     },
     "execution_count": 9,
     "metadata": {},
     "output_type": "execute_result"
    }
   ],
   "source": [
    "#NAN属于浮点类型\n",
    "data = data.astype(float)\n",
    "data[0,1]=np.NAN\n",
    "data"
   ]
  },
  {
   "cell_type": "code",
   "execution_count": 10,
   "id": "4998ef54",
   "metadata": {},
   "outputs": [
    {
     "data": {
      "text/plain": [
       "False"
      ]
     },
     "execution_count": 10,
     "metadata": {},
     "output_type": "execute_result"
    }
   ],
   "source": [
    "np.NAN == np.NAN"
   ]
  },
  {
   "cell_type": "code",
   "execution_count": 11,
   "id": "be251747",
   "metadata": {},
   "outputs": [
    {
     "name": "stderr",
     "output_type": "stream",
     "text": [
      "<ipython-input-11-93938293822a>:1: RuntimeWarning: divide by zero encountered in true_divide\n",
      "  data/0\n",
      "<ipython-input-11-93938293822a>:1: RuntimeWarning: invalid value encountered in true_divide\n",
      "  data/0\n"
     ]
    },
    {
     "data": {
      "text/plain": [
       "array([[inf, nan, inf, inf, inf],\n",
       "       [inf, inf, inf, inf, nan],\n",
       "       [inf, inf, inf, inf, inf]])"
      ]
     },
     "execution_count": 11,
     "metadata": {},
     "output_type": "execute_result"
    }
   ],
   "source": [
    "data/0"
   ]
  },
  {
   "cell_type": "code",
   "execution_count": 12,
   "id": "5742facb",
   "metadata": {},
   "outputs": [
    {
     "data": {
      "text/plain": [
       "array([[ 6., nan,  2.,  4.,  6.],\n",
       "       [ 9.,  7., nan,  1.,  0.],\n",
       "       [ 1.,  3.,  4.,  4.,  1.]])"
      ]
     },
     "execution_count": 12,
     "metadata": {},
     "output_type": "execute_result"
    }
   ],
   "source": [
    "#NAN删除\n",
    "data[1,2]=np.NAN\n",
    "data"
   ]
  },
  {
   "cell_type": "code",
   "execution_count": 16,
   "id": "c303c6fe",
   "metadata": {},
   "outputs": [
    {
     "data": {
      "text/plain": [
       "array([6., 2., 4., 6., 9., 7., 1., 0., 1., 3., 4., 4., 1.])"
      ]
     },
     "execution_count": 16,
     "metadata": {},
     "output_type": "execute_result"
    }
   ],
   "source": [
    "data[~np.isnan(data)]"
   ]
  },
  {
   "cell_type": "code",
   "execution_count": 19,
   "id": "7d17be08",
   "metadata": {},
   "outputs": [
    {
     "data": {
      "text/plain": [
       "array([[1., 3., 4., 4., 1.]])"
      ]
     },
     "execution_count": 19,
     "metadata": {},
     "output_type": "execute_result"
    }
   ],
   "source": [
    "#删除nan所在的行\n",
    "lines = np.where(np.isnan(data))[0]\n",
    "data = np.delete(data,lines,axis=0)\n",
    "data"
   ]
  },
  {
   "cell_type": "code",
   "execution_count": 37,
   "id": "fcc6493f",
   "metadata": {},
   "outputs": [
    {
     "data": {
      "text/plain": [
       "array([[23. , 67. ],\n",
       "       [34. , 45.5],\n",
       "       [45. ,  nan],\n",
       "       [ nan, 23. ],\n",
       "       [56. , 12. ]])"
      ]
     },
     "execution_count": 37,
     "metadata": {},
     "output_type": "execute_result"
    }
   ],
   "source": [
    "#NAN替换\n",
    "scores = np.loadtxt(\"nan_scores.csv\",delimiter=\",\",skiprows=1,encoding = \"utf-8\", dtype = str)\n",
    "scores[scores ==\"\"] = np.NAN #将str型数据转化为float型的nan\n",
    "scores1 = scores.astype(float)\n",
    "scores1"
   ]
  },
  {
   "cell_type": "code",
   "execution_count": 38,
   "id": "471edd5b",
   "metadata": {},
   "outputs": [
    {
     "data": {
      "text/plain": [
       "array([90. , 79.5, 45. , 23. , 68. ])"
      ]
     },
     "execution_count": 38,
     "metadata": {},
     "output_type": "execute_result"
    }
   ],
   "source": [
    "scores1[np.isnan(scores1)] = 0\n",
    "scores1.sum(axis=1)#按行求和 除了delete以外，其他大部分函数axis=1都是表示行"
   ]
  },
  {
   "cell_type": "code",
   "execution_count": 44,
   "id": "6f982974",
   "metadata": {},
   "outputs": [
    {
     "data": {
      "text/plain": [
       "array([[23.   , 67.   ],\n",
       "       [34.   , 45.5  ],\n",
       "       [45.   , 36.875],\n",
       "       [39.5  , 23.   ],\n",
       "       [56.   , 12.   ]])"
      ]
     },
     "execution_count": 44,
     "metadata": {},
     "output_type": "execute_result"
    }
   ],
   "source": [
    "scores2 = scores.astype(float).copy()\n",
    "for x in range(scores2.shape[1]):#加range使其可迭代\n",
    "    col = scores2[:,x]\n",
    "    non_nan_col = col[~np.isnan(col)]\n",
    "    mean = non_nan_col.mean()\n",
    "    col[np.isnan(col)] = mean\n",
    "scores2"
   ]
  },
  {
   "cell_type": "code",
   "execution_count": null,
   "id": "89678390",
   "metadata": {},
   "outputs": [],
   "source": []
  }
 ],
 "metadata": {
  "kernelspec": {
   "display_name": "Python 3",
   "language": "python",
   "name": "python3"
  },
  "language_info": {
   "codemirror_mode": {
    "name": "ipython",
    "version": 3
   },
   "file_extension": ".py",
   "mimetype": "text/x-python",
   "name": "python",
   "nbconvert_exporter": "python",
   "pygments_lexer": "ipython3",
   "version": "3.8.8"
  }
 },
 "nbformat": 4,
 "nbformat_minor": 5
}
