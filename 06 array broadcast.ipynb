{
 "cells": [
  {
   "cell_type": "code",
   "execution_count": 1,
   "id": "57ac0cac",
   "metadata": {},
   "outputs": [],
   "source": [
    "import numpy as np"
   ]
  },
  {
   "cell_type": "code",
   "execution_count": 2,
   "id": "c969dbc5",
   "metadata": {},
   "outputs": [],
   "source": [
    "a1 = np.random.randint(0,5,size=(3,5))"
   ]
  },
  {
   "cell_type": "code",
   "execution_count": 3,
   "id": "e58d525d",
   "metadata": {},
   "outputs": [
    {
     "data": {
      "text/plain": [
       "array([[1, 3, 3, 2, 4],\n",
       "       [0, 0, 2, 0, 3],\n",
       "       [4, 1, 1, 2, 0]])"
      ]
     },
     "execution_count": 3,
     "metadata": {},
     "output_type": "execute_result"
    }
   ],
   "source": [
    "a1"
   ]
  },
  {
   "cell_type": "code",
   "execution_count": 4,
   "id": "412d4dfa",
   "metadata": {},
   "outputs": [
    {
     "data": {
      "text/plain": [
       "array([[2, 6, 6, 4, 8],\n",
       "       [0, 0, 4, 0, 6],\n",
       "       [8, 2, 2, 4, 0]])"
      ]
     },
     "execution_count": 4,
     "metadata": {},
     "output_type": "execute_result"
    }
   ],
   "source": [
    "a1*2#所有元素×2\n"
   ]
  },
  {
   "cell_type": "code",
   "execution_count": 5,
   "id": "15222dc4",
   "metadata": {},
   "outputs": [
    {
     "data": {
      "text/plain": [
       "array([[2, 0, 3, 2, 4],\n",
       "       [3, 3, 0, 1, 2],\n",
       "       [1, 3, 3, 4, 2]])"
      ]
     },
     "execution_count": 5,
     "metadata": {},
     "output_type": "execute_result"
    }
   ],
   "source": [
    "a2 = np.random.randint(0,5,size=(3,5))\n",
    "a2"
   ]
  },
  {
   "cell_type": "code",
   "execution_count": 6,
   "id": "8ab87ab8",
   "metadata": {},
   "outputs": [
    {
     "data": {
      "text/plain": [
       "array([[3, 3, 6, 4, 8],\n",
       "       [3, 3, 2, 1, 5],\n",
       "       [5, 4, 4, 6, 2]])"
      ]
     },
     "execution_count": 6,
     "metadata": {},
     "output_type": "execute_result"
    }
   ],
   "source": [
    "a1+a2"
   ]
  },
  {
   "cell_type": "code",
   "execution_count": 7,
   "id": "8cb13368",
   "metadata": {},
   "outputs": [
    {
     "data": {
      "text/plain": [
       "array([[0],\n",
       "       [1],\n",
       "       [0]])"
      ]
     },
     "execution_count": 7,
     "metadata": {},
     "output_type": "execute_result"
    }
   ],
   "source": [
    "a4 = np.random.randint(0,5,size=(3,1))\n",
    "a4"
   ]
  },
  {
   "cell_type": "code",
   "execution_count": 8,
   "id": "51d6af35",
   "metadata": {},
   "outputs": [
    {
     "data": {
      "text/plain": [
       "array([[1, 3, 3, 2, 4],\n",
       "       [1, 1, 3, 1, 4],\n",
       "       [4, 1, 1, 2, 0]])"
      ]
     },
     "execution_count": 8,
     "metadata": {},
     "output_type": "execute_result"
    }
   ],
   "source": [
    "a1+a4#数组的广播机制 a4和a1的每一列相加"
   ]
  },
  {
   "cell_type": "code",
   "execution_count": 9,
   "id": "fa89d6d5",
   "metadata": {},
   "outputs": [
    {
     "name": "stdout",
     "output_type": "stream",
     "text": [
      "[[[1 1]\n",
      "  [0 0]\n",
      "  [2 4]\n",
      "  [4 4]\n",
      "  [4 4]\n",
      "  [1 3]\n",
      "  [2 0]\n",
      "  [4 3]]\n",
      "\n",
      " [[4 4]\n",
      "  [2 4]\n",
      "  [0 0]\n",
      "  [2 1]\n",
      "  [4 3]\n",
      "  [1 1]\n",
      "  [2 0]\n",
      "  [0 1]]\n",
      "\n",
      " [[3 1]\n",
      "  [3 4]\n",
      "  [0 0]\n",
      "  [2 3]\n",
      "  [4 1]\n",
      "  [3 4]\n",
      "  [2 3]\n",
      "  [1 0]]]\n",
      "==============================\n",
      "[[4 4]\n",
      " [4 2]\n",
      " [0 1]\n",
      " [1 0]\n",
      " [0 3]\n",
      " [2 4]\n",
      " [3 1]\n",
      " [0 0]]\n",
      "==============================\n",
      "[[[5 5]\n",
      "  [4 2]\n",
      "  [2 5]\n",
      "  [5 4]\n",
      "  [4 7]\n",
      "  [3 7]\n",
      "  [5 1]\n",
      "  [4 3]]\n",
      "\n",
      " [[8 8]\n",
      "  [6 6]\n",
      "  [0 1]\n",
      "  [3 1]\n",
      "  [4 6]\n",
      "  [3 5]\n",
      "  [5 1]\n",
      "  [0 1]]\n",
      "\n",
      " [[7 5]\n",
      "  [7 6]\n",
      "  [0 1]\n",
      "  [3 3]\n",
      "  [4 4]\n",
      "  [5 8]\n",
      "  [5 4]\n",
      "  [1 0]]]\n"
     ]
    }
   ],
   "source": [
    "#广播原则：从末尾开始算的维度相同或者其中有一个为1的话是可以进行运算的\n",
    "a6 = np.random.randint(0,5,size=(3,8,2))\n",
    "a7 = np.random.randint(0,5,size=(8,2))\n",
    "print(a6)\n",
    "print('='*30)\n",
    "print(a7)\n",
    "print(\"=\"*30)\n",
    "print(a6+a7)"
   ]
  },
  {
   "cell_type": "code",
   "execution_count": null,
   "id": "4d9e7322",
   "metadata": {},
   "outputs": [],
   "source": []
  }
 ],
 "metadata": {
  "kernelspec": {
   "display_name": "Python 3",
   "language": "python",
   "name": "python3"
  },
  "language_info": {
   "codemirror_mode": {
    "name": "ipython",
    "version": 3
   },
   "file_extension": ".py",
   "mimetype": "text/x-python",
   "name": "python",
   "nbconvert_exporter": "python",
   "pygments_lexer": "ipython3",
   "version": "3.8.8"
  }
 },
 "nbformat": 4,
 "nbformat_minor": 5
}
