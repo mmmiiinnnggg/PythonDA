{
 "cells": [
  {
   "cell_type": "code",
   "execution_count": 1,
   "id": "a7652ad2",
   "metadata": {},
   "outputs": [],
   "source": [
    "import numpy as np\n",
    "import pandas as pd"
   ]
  },
  {
   "cell_type": "code",
   "execution_count": 4,
   "id": "85ba79d9",
   "metadata": {},
   "outputs": [
    {
     "data": {
      "text/plain": [
       "a  0    0.933470\n",
       "   1    0.653539\n",
       "   2    1.379123\n",
       "b  0    0.704207\n",
       "   1    1.213742\n",
       "   2   -1.201900\n",
       "c  0   -0.515551\n",
       "   1    0.269570\n",
       "   2   -0.641802\n",
       "d  0    0.994066\n",
       "   1   -0.933701\n",
       "   2   -1.115615\n",
       "dtype: float64"
      ]
     },
     "execution_count": 4,
     "metadata": {},
     "output_type": "execute_result"
    }
   ],
   "source": [
    "s1 = pd.Series(np.random.randn(12),index=[['a','a','a','b','b','b','c','c','c','d','d','d'],[0,1,2,0,1,2,0,1,2,0,1,2]])\n",
    "s1"
   ]
  },
  {
   "cell_type": "code",
   "execution_count": 5,
   "id": "0a9a6471",
   "metadata": {},
   "outputs": [
    {
     "name": "stdout",
     "output_type": "stream",
     "text": [
      "<class 'pandas.core.indexes.multi.MultiIndex'>\n"
     ]
    }
   ],
   "source": [
    "print(type(s1.index))"
   ]
  },
  {
   "cell_type": "code",
   "execution_count": 6,
   "id": "d5f32ee5",
   "metadata": {},
   "outputs": [
    {
     "data": {
      "text/plain": [
       "0    0.704207\n",
       "1    1.213742\n",
       "2   -1.201900\n",
       "dtype: float64"
      ]
     },
     "execution_count": 6,
     "metadata": {},
     "output_type": "execute_result"
    }
   ],
   "source": [
    "#1.外层选取\n",
    "s1['b']"
   ]
  },
  {
   "cell_type": "code",
   "execution_count": 7,
   "id": "c8fbee5b",
   "metadata": {},
   "outputs": [
    {
     "data": {
      "text/plain": [
       "a    1.379123\n",
       "b   -1.201900\n",
       "c   -0.641802\n",
       "d   -1.115615\n",
       "dtype: float64"
      ]
     },
     "execution_count": 7,
     "metadata": {},
     "output_type": "execute_result"
    }
   ],
   "source": [
    "#2.内层获取\n",
    "s1[:,2]"
   ]
  },
  {
   "cell_type": "code",
   "execution_count": 10,
   "id": "dcebaabd",
   "metadata": {},
   "outputs": [
    {
     "data": {
      "text/plain": [
       "0.9334704861669222"
      ]
     },
     "execution_count": 10,
     "metadata": {},
     "output_type": "execute_result"
    }
   ],
   "source": [
    "s1['a',0]"
   ]
  },
  {
   "cell_type": "code",
   "execution_count": 11,
   "id": "63ef7e42",
   "metadata": {},
   "outputs": [
    {
     "data": {
      "text/plain": [
       "0  a    0.933470\n",
       "1  a    0.653539\n",
       "2  a    1.379123\n",
       "0  b    0.704207\n",
       "1  b    1.213742\n",
       "2  b   -1.201900\n",
       "0  c   -0.515551\n",
       "1  c    0.269570\n",
       "2  c   -0.641802\n",
       "0  d    0.994066\n",
       "1  d   -0.933701\n",
       "2  d   -1.115615\n",
       "dtype: float64"
      ]
     },
     "execution_count": 11,
     "metadata": {},
     "output_type": "execute_result"
    }
   ],
   "source": [
    "s1.swaplevel()"
   ]
  },
  {
   "cell_type": "code",
   "execution_count": 17,
   "id": "18f388eb",
   "metadata": {},
   "outputs": [
    {
     "data": {
      "text/plain": [
       "a  0    0.933470\n",
       "   1    0.653539\n",
       "   2    1.379123\n",
       "b  0    0.704207\n",
       "   1    1.213742\n",
       "   2   -1.201900\n",
       "c  0   -0.515551\n",
       "   1    0.269570\n",
       "   2   -0.641802\n",
       "d  0    0.994066\n",
       "   1   -0.933701\n",
       "   2   -1.115615\n",
       "dtype: float64"
      ]
     },
     "execution_count": 17,
     "metadata": {},
     "output_type": "execute_result"
    }
   ],
   "source": [
    "s1.sort_index()"
   ]
  },
  {
   "cell_type": "code",
   "execution_count": null,
   "id": "01157274",
   "metadata": {},
   "outputs": [],
   "source": []
  }
 ],
 "metadata": {
  "kernelspec": {
   "display_name": "Python 3",
   "language": "python",
   "name": "python3"
  },
  "language_info": {
   "codemirror_mode": {
    "name": "ipython",
    "version": 3
   },
   "file_extension": ".py",
   "mimetype": "text/x-python",
   "name": "python",
   "nbconvert_exporter": "python",
   "pygments_lexer": "ipython3",
   "version": "3.8.8"
  }
 },
 "nbformat": 4,
 "nbformat_minor": 5
}
