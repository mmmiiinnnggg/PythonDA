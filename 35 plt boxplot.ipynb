{
 "cells": [
  {
   "cell_type": "markdown",
   "id": "b4cab634",
   "metadata": {},
   "source": [
    "## Загрузить необходимые библиотеки"
   ]
  },
  {
   "cell_type": "code",
   "execution_count": 1,
   "id": "e9c9f474",
   "metadata": {},
   "outputs": [],
   "source": [
    "import matplotlib.pyplot as plt\n",
    "import pandas as pd\n",
    "import numpy as np"
   ]
  },
  {
   "cell_type": "code",
   "execution_count": 9,
   "id": "596d1e1d",
   "metadata": {},
   "outputs": [
    {
     "data": {
      "text/plain": [
       "{'whiskers': [<matplotlib.lines.Line2D at 0x1a32b35b790>,\n",
       "  <matplotlib.lines.Line2D at 0x1a32b35baf0>],\n",
       " 'caps': [<matplotlib.lines.Line2D at 0x1a32b35be50>,\n",
       "  <matplotlib.lines.Line2D at 0x1a32b3651f0>],\n",
       " 'boxes': [<matplotlib.lines.Line2D at 0x1a32b35b430>],\n",
       " 'medians': [<matplotlib.lines.Line2D at 0x1a32b365550>],\n",
       " 'fliers': [<matplotlib.lines.Line2D at 0x1a32b365c10>],\n",
       " 'means': [<matplotlib.lines.Line2D at 0x1a32b3658b0>]}"
      ]
     },
     "execution_count": 9,
     "metadata": {},
     "output_type": "execute_result"
    },
    {
     "data": {
      "image/png": "[encoded data removed]",
      "text/plain": [
       "<Figure size 432x288 with 1 Axes>"
      ]
     },
     "metadata": {
      "needs_background": "light"
     },
     "output_type": "display_data"
    }
   ],
   "source": [
    "data = np.random.rand(100)*100\n",
    "data = np.append(data,np.array([-120,150]))\n",
    "plt.boxplot(data,sym='o',vert = False,widths=[0.1],labels=['A'], meanline = True, showmeans = True)"
   ]
  },
  {
   "cell_type": "code",
   "execution_count": 10,
   "id": "8fbbf6a3",
   "metadata": {},
   "outputs": [
    {
     "data": {
      "text/html": [
       "<div>\n",
       "<style scoped>\n",
       "    .dataframe tbody tr th:only-of-type {\n",
       "        vertical-align: middle;\n",
       "    }\n",
       "\n",
       "    .dataframe tbody tr th {\n",
       "        vertical-align: top;\n",
       "    }\n",
       "\n",
       "    .dataframe thead th {\n",
       "        text-align: right;\n",
       "    }\n",
       "</style>\n",
       "<table border=\"1\" class=\"dataframe\">\n",
       "  <thead>\n",
       "    <tr style=\"text-align: right;\">\n",
       "      <th></th>\n",
       "      <th>#</th>\n",
       "      <th>Player</th>\n",
       "      <th>Team</th>\n",
       "      <th>GP</th>\n",
       "      <th>MPG</th>\n",
       "      <th>FGM</th>\n",
       "      <th>FGA</th>\n",
       "      <th>FG%</th>\n",
       "      <th>3PM</th>\n",
       "      <th>3PA</th>\n",
       "      <th>...</th>\n",
       "      <th>FT%</th>\n",
       "      <th>TOV</th>\n",
       "      <th>PF</th>\n",
       "      <th>ORB</th>\n",
       "      <th>DRB</th>\n",
       "      <th>RPG</th>\n",
       "      <th>APG</th>\n",
       "      <th>SPG</th>\n",
       "      <th>BPG</th>\n",
       "      <th>PPG</th>\n",
       "    </tr>\n",
       "  </thead>\n",
       "  <tbody>\n",
       "    <tr>\n",
       "      <th>0</th>\n",
       "      <td>1</td>\n",
       "      <td>Stephen Curry</td>\n",
       "      <td>GSW</td>\n",
       "      <td>63</td>\n",
       "      <td>34.2</td>\n",
       "      <td>10.4</td>\n",
       "      <td>21.7</td>\n",
       "      <td>0.482</td>\n",
       "      <td>5.3</td>\n",
       "      <td>12.7</td>\n",
       "      <td>...</td>\n",
       "      <td>0.916</td>\n",
       "      <td>3.4</td>\n",
       "      <td>1.9</td>\n",
       "      <td>0.5</td>\n",
       "      <td>5.0</td>\n",
       "      <td>5.5</td>\n",
       "      <td>5.8</td>\n",
       "      <td>1.2</td>\n",
       "      <td>0.1</td>\n",
       "      <td>32.0</td>\n",
       "    </tr>\n",
       "    <tr>\n",
       "      <th>1</th>\n",
       "      <td>2</td>\n",
       "      <td>Bradley Beal</td>\n",
       "      <td>WAS</td>\n",
       "      <td>60</td>\n",
       "      <td>35.8</td>\n",
       "      <td>11.2</td>\n",
       "      <td>23.0</td>\n",
       "      <td>0.485</td>\n",
       "      <td>2.2</td>\n",
       "      <td>6.2</td>\n",
       "      <td>...</td>\n",
       "      <td>0.889</td>\n",
       "      <td>3.1</td>\n",
       "      <td>2.3</td>\n",
       "      <td>1.2</td>\n",
       "      <td>3.5</td>\n",
       "      <td>4.7</td>\n",
       "      <td>4.4</td>\n",
       "      <td>1.1</td>\n",
       "      <td>0.4</td>\n",
       "      <td>31.3</td>\n",
       "    </tr>\n",
       "    <tr>\n",
       "      <th>2</th>\n",
       "      <td>3</td>\n",
       "      <td>Damian Lillard</td>\n",
       "      <td>POR</td>\n",
       "      <td>67</td>\n",
       "      <td>35.8</td>\n",
       "      <td>9.0</td>\n",
       "      <td>19.9</td>\n",
       "      <td>0.451</td>\n",
       "      <td>4.1</td>\n",
       "      <td>10.5</td>\n",
       "      <td>...</td>\n",
       "      <td>0.928</td>\n",
       "      <td>3.0</td>\n",
       "      <td>1.5</td>\n",
       "      <td>0.5</td>\n",
       "      <td>3.7</td>\n",
       "      <td>4.2</td>\n",
       "      <td>7.5</td>\n",
       "      <td>0.9</td>\n",
       "      <td>0.3</td>\n",
       "      <td>28.8</td>\n",
       "    </tr>\n",
       "    <tr>\n",
       "      <th>3</th>\n",
       "      <td>4</td>\n",
       "      <td>Joel Embiid</td>\n",
       "      <td>PHI</td>\n",
       "      <td>51</td>\n",
       "      <td>31.1</td>\n",
       "      <td>9.0</td>\n",
       "      <td>17.6</td>\n",
       "      <td>0.513</td>\n",
       "      <td>1.1</td>\n",
       "      <td>3.0</td>\n",
       "      <td>...</td>\n",
       "      <td>0.859</td>\n",
       "      <td>3.1</td>\n",
       "      <td>2.4</td>\n",
       "      <td>2.2</td>\n",
       "      <td>8.4</td>\n",
       "      <td>10.6</td>\n",
       "      <td>2.8</td>\n",
       "      <td>1.0</td>\n",
       "      <td>1.4</td>\n",
       "      <td>28.5</td>\n",
       "    </tr>\n",
       "    <tr>\n",
       "      <th>4</th>\n",
       "      <td>5</td>\n",
       "      <td>Giannis Antetokounmpo</td>\n",
       "      <td>MIL</td>\n",
       "      <td>61</td>\n",
       "      <td>33.0</td>\n",
       "      <td>10.3</td>\n",
       "      <td>18.0</td>\n",
       "      <td>0.569</td>\n",
       "      <td>1.1</td>\n",
       "      <td>3.6</td>\n",
       "      <td>...</td>\n",
       "      <td>0.685</td>\n",
       "      <td>3.4</td>\n",
       "      <td>2.8</td>\n",
       "      <td>1.6</td>\n",
       "      <td>9.4</td>\n",
       "      <td>11.0</td>\n",
       "      <td>5.9</td>\n",
       "      <td>1.2</td>\n",
       "      <td>1.2</td>\n",
       "      <td>28.1</td>\n",
       "    </tr>\n",
       "  </tbody>\n",
       "</table>\n",
       "<p>5 rows × 23 columns</p>\n",
       "</div>"
      ],
      "text/plain": [
       "   #                 Player Team  GP   MPG   FGM   FGA    FG%  3PM   3PA  ...  \\\n",
       "0  1          Stephen Curry  GSW  63  34.2  10.4  21.7  0.482  5.3  12.7  ...   \n",
       "1  2           Bradley Beal  WAS  60  35.8  11.2  23.0  0.485  2.2   6.2  ...   \n",
       "2  3         Damian Lillard  POR  67  35.8   9.0  19.9  0.451  4.1  10.5  ...   \n",
       "3  4            Joel Embiid  PHI  51  31.1   9.0  17.6  0.513  1.1   3.0  ...   \n",
       "4  5  Giannis Antetokounmpo  MIL  61  33.0  10.3  18.0  0.569  1.1   3.6  ...   \n",
       "\n",
       "     FT%  TOV   PF  ORB  DRB   RPG  APG  SPG  BPG   PPG  \n",
       "0  0.916  3.4  1.9  0.5  5.0   5.5  5.8  1.2  0.1  32.0  \n",
       "1  0.889  3.1  2.3  1.2  3.5   4.7  4.4  1.1  0.4  31.3  \n",
       "2  0.928  3.0  1.5  0.5  3.7   4.2  7.5  0.9  0.3  28.8  \n",
       "3  0.859  3.1  2.4  2.2  8.4  10.6  2.8  1.0  1.4  28.5  \n",
       "4  0.685  3.4  2.8  1.6  9.4  11.0  5.9  1.2  1.2  28.1  \n",
       "\n",
       "[5 rows x 23 columns]"
      ]
     },
     "execution_count": 10,
     "metadata": {},
     "output_type": "execute_result"
    }
   ],
   "source": [
    "athlete = pd.read_csv(\"active_player.csv\").dropna()\n",
    "athlete.head()"
   ]
  },
  {
   "cell_type": "code",
   "execution_count": 18,
   "id": "b49f5859",
   "metadata": {},
   "outputs": [
    {
     "data": {
      "image/png": "[encoded data removed]",
      "text/plain": [
       "<Figure size 720x504 with 1 Axes>"
      ]
     },
     "metadata": {
      "needs_background": "light"
     },
     "output_type": "display_data"
    }
   ],
   "source": [
    "teams={\n",
    "    'GSW':'Warriors',\n",
    "    'LAL':'Lakers',\n",
    "    'LAC':'Clippers',\n",
    "    'DEN':'Denver'\n",
    "}\n",
    "\n",
    "#先获取数据(二维数据)\n",
    "dfs = []\n",
    "for code in teams.keys():\n",
    "    df = athlete[athlete['Team'] == code]['PPG']\n",
    "    dfs.append(df)\n",
    "plt.figure(figsize=(10,7))\n",
    "plt.boxplot(dfs)\n",
    "\n",
    "plt.xticks(range(1,5),teams.values())\n",
    "plt.show()"
   ]
  },
  {
   "cell_type": "code",
   "execution_count": null,
   "id": "1d70550f",
   "metadata": {},
   "outputs": [],
   "source": []
  }
 ],
 "metadata": {
  "kernelspec": {
   "display_name": "Python 3",
   "language": "python",
   "name": "python3"
  },
  "language_info": {
   "codemirror_mode": {
    "name": "ipython",
    "version": 3
   },
   "file_extension": ".py",
   "mimetype": "text/x-python",
   "name": "python",
   "nbconvert_exporter": "python",
   "pygments_lexer": "ipython3",
   "version": "3.8.8"
  }
 },
 "nbformat": 4,
 "nbformat_minor": 5
}
