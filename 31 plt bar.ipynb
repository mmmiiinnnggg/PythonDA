{
 "cells": [
  {
   "cell_type": "code",
   "execution_count": 3,
   "id": "39842115",
   "metadata": {},
   "outputs": [],
   "source": [
    "import matplotlib.pyplot as plt\n",
    "import numpy as np\n",
    "import pandas as pd"
   ]
  },
  {
   "cell_type": "code",
   "execution_count": 12,
   "id": "35d280a6",
   "metadata": {},
   "outputs": [],
   "source": [
    "movies = {\n",
    "    \"one\": 40.78,\n",
    "    \"two\": 15.77,\n",
    "    \"three\": 20.83,\n",
    "    \"four\": 6.1,\n",
    "    \"five\": 5.10\n",
    "}"
   ]
  },
  {
   "cell_type": "code",
   "execution_count": 22,
   "id": "5fc0b9fb",
   "metadata": {},
   "outputs": [
    {
     "data": {
      "text/plain": [
       "([<matplotlib.axis.YTick at 0x295133b3e20>,\n",
       "  <matplotlib.axis.YTick at 0x295133b3a00>,\n",
       "  <matplotlib.axis.YTick at 0x295133b18b0>,\n",
       "  <matplotlib.axis.YTick at 0x295133dcf10>,\n",
       "  <matplotlib.axis.YTick at 0x295133ec460>,\n",
       "  <matplotlib.axis.YTick at 0x295133ec970>,\n",
       "  <matplotlib.axis.YTick at 0x295133ece80>,\n",
       "  <matplotlib.axis.YTick at 0x295133eca30>,\n",
       "  <matplotlib.axis.YTick at 0x295133f2220>],\n",
       " [Text(0, 0, '0 yi'),\n",
       "  Text(0, 5, '5 yi'),\n",
       "  Text(0, 10, '10 yi'),\n",
       "  Text(0, 15, '15 yi'),\n",
       "  Text(0, 20, '20 yi'),\n",
       "  Text(0, 25, '25 yi'),\n",
       "  Text(0, 30, '30 yi'),\n",
       "  Text(0, 35, '35 yi'),\n",
       "  Text(0, 40, '40 yi')])"
      ]
     },
     "execution_count": 22,
     "metadata": {},
     "output_type": "execute_result"
    },
    {
     "data": {
      "image/png": "[encoded data removed]",
      "text/plain": [
       "<Figure size 1080x360 with 1 Axes>"
      ]
     },
     "metadata": {
      "needs_background": "light"
     },
     "output_type": "display_data"
    }
   ],
   "source": [
    "x = list(movies.keys())\n",
    "y = list(movies.values())\n",
    "plt.figure(figsize=(15,5))\n",
    "\n",
    "movie_df = pd.DataFrame(data = {\"names\":list(movies.keys()),\"tickets\":list(movies.values())})\n",
    "plt.bar(\"names\",\"tickets\",data = movie_df,width = -0.3,align = \"edge\",color = 'r',edgecolor='k')\n",
    "#plt.xticks(fontproperties=font,size = 12)\n",
    "plt.yticks(range(0,45,5),[\"%d yi\"%x for x in range(0,45,5)])"
   ]
  },
  {
   "cell_type": "code",
   "execution_count": 27,
   "id": "4e99c9e4",
   "metadata": {},
   "outputs": [
    {
     "data": {
      "text/plain": [
       "([0, 1, 2, 3, 4],\n",
       " [Text(0, 0, ''),\n",
       "  Text(0, 0, ''),\n",
       "  Text(0, 0, ''),\n",
       "  Text(0, 0, ''),\n",
       "  Text(0, 0, '')])"
      ]
     },
     "execution_count": 27,
     "metadata": {},
     "output_type": "execute_result"
    },
    {
     "data": {
      "image/png": "[encoded data removed]",
      "text/plain": [
       "<Figure size 432x288 with 1 Axes>"
      ]
     },
     "metadata": {
      "needs_background": "light"
     },
     "output_type": "display_data"
    }
   ],
   "source": [
    "#横向bar\n",
    "plt.barh(list(movies.keys()),list(movies.values()))\n",
    "plt.yticks(size=12)"
   ]
  },
  {
   "cell_type": "code",
   "execution_count": 6,
   "id": "baa1f413",
   "metadata": {},
   "outputs": [
    {
     "data": {
      "text/html": [
       "<div>\n",
       "<style scoped>\n",
       "    .dataframe tbody tr th:only-of-type {\n",
       "        vertical-align: middle;\n",
       "    }\n",
       "\n",
       "    .dataframe tbody tr th {\n",
       "        vertical-align: top;\n",
       "    }\n",
       "\n",
       "    .dataframe thead th {\n",
       "        text-align: right;\n",
       "    }\n",
       "</style>\n",
       "<table border=\"1\" class=\"dataframe\">\n",
       "  <thead>\n",
       "    <tr style=\"text-align: right;\">\n",
       "      <th></th>\n",
       "      <th>one</th>\n",
       "      <th>two</th>\n",
       "      <th>three</th>\n",
       "      <th>four</th>\n",
       "      <th>five</th>\n",
       "    </tr>\n",
       "  </thead>\n",
       "  <tbody>\n",
       "    <tr>\n",
       "      <th>0</th>\n",
       "      <td>0.229146</td>\n",
       "      <td>0.982930</td>\n",
       "      <td>0.233720</td>\n",
       "      <td>0.387518</td>\n",
       "      <td>0.763557</td>\n",
       "    </tr>\n",
       "    <tr>\n",
       "      <th>1</th>\n",
       "      <td>0.261832</td>\n",
       "      <td>0.812882</td>\n",
       "      <td>0.624531</td>\n",
       "      <td>0.977721</td>\n",
       "      <td>0.030382</td>\n",
       "    </tr>\n",
       "    <tr>\n",
       "      <th>2</th>\n",
       "      <td>0.463264</td>\n",
       "      <td>0.744763</td>\n",
       "      <td>0.729758</td>\n",
       "      <td>0.190248</td>\n",
       "      <td>0.800757</td>\n",
       "    </tr>\n",
       "    <tr>\n",
       "      <th>3</th>\n",
       "      <td>0.094253</td>\n",
       "      <td>0.068733</td>\n",
       "      <td>0.181280</td>\n",
       "      <td>0.632512</td>\n",
       "      <td>0.550521</td>\n",
       "    </tr>\n",
       "    <tr>\n",
       "      <th>4</th>\n",
       "      <td>0.948573</td>\n",
       "      <td>0.434453</td>\n",
       "      <td>0.859678</td>\n",
       "      <td>0.297986</td>\n",
       "      <td>0.411642</td>\n",
       "    </tr>\n",
       "  </tbody>\n",
       "</table>\n",
       "</div>"
      ],
      "text/plain": [
       "        one       two     three      four      five\n",
       "0  0.229146  0.982930  0.233720  0.387518  0.763557\n",
       "1  0.261832  0.812882  0.624531  0.977721  0.030382\n",
       "2  0.463264  0.744763  0.729758  0.190248  0.800757\n",
       "3  0.094253  0.068733  0.181280  0.632512  0.550521\n",
       "4  0.948573  0.434453  0.859678  0.297986  0.411642"
      ]
     },
     "execution_count": 6,
     "metadata": {},
     "output_type": "execute_result"
    }
   ],
   "source": [
    "#分组bar\n",
    "movies1 = {\n",
    "    \"one\": [np.random.rand() for x in range(5)],\n",
    "    \"two\": [np.random.rand() for x in range(5)],\n",
    "    \"three\": [np.random.rand() for x in range(5)],\n",
    "    \"four\": [np.random.rand() for x in range(5)],\n",
    "    \"five\": [np.random.rand() for x in range(5)]\n",
    "}\n",
    "mv1_df = pd.DataFrame(movies1)\n",
    "mv1_df"
   ]
  },
  {
   "cell_type": "code",
   "execution_count": 14,
   "id": "f3f5cc0e",
   "metadata": {},
   "outputs": [
    {
     "data": {
      "image/png": "[encoded data removed]",
      "text/plain": [
       "<Figure size 1080x360 with 1 Axes>"
      ]
     },
     "metadata": {
      "needs_background": "light"
     },
     "output_type": "display_data"
    }
   ],
   "source": [
    "plt.figure(figsize=(15,5))\n",
    "xticks = np.arange(len(movies1))#设置x轴间距\n",
    "bar_width = 0.15\n",
    "\n",
    "for index in mv1_df.index:\n",
    "    plt.bar(xticks+ (-2+index) *bar_width, mv1_df.iloc[index],width = bar_width,label = '%d'%(index+1))\n",
    "plt.xticks(xticks,mv1_df.columns)\n",
    "plt.legend()#图例\n",
    "plt.show()"
   ]
  },
  {
   "cell_type": "code",
   "execution_count": 18,
   "id": "f2aad2e0",
   "metadata": {},
   "outputs": [
    {
     "data": {
      "text/plain": [
       "<matplotlib.legend.Legend at 0x25728edd040>"
      ]
     },
     "execution_count": 18,
     "metadata": {},
     "output_type": "execute_result"
    },
    {
     "data": {
      "image/png": "[encoded data removed]",
      "text/plain": [
       "<Figure size 432x288 with 1 Axes>"
      ]
     },
     "metadata": {
      "needs_background": "light"
     },
     "output_type": "display_data"
    }
   ],
   "source": [
    "#堆叠条形图\n",
    "men =(20,35,30,35,27)\n",
    "women = (25,32,34,20,25)\n",
    "groupname = ('1','2','3','4','5')\n",
    "plt.bar(groupname,men,label = 'men')\n",
    "plt.bar(groupname,women,bottom=men,label = 'women')\n",
    "plt.legend()"
   ]
  },
  {
   "cell_type": "code",
   "execution_count": null,
   "id": "57f14530",
   "metadata": {},
   "outputs": [],
   "source": []
  }
 ],
 "metadata": {
  "kernelspec": {
   "display_name": "Python 3",
   "language": "python",
   "name": "python3"
  },
  "language_info": {
   "codemirror_mode": {
    "name": "ipython",
    "version": 3
   },
   "file_extension": ".py",
   "mimetype": "text/x-python",
   "name": "python",
   "nbconvert_exporter": "python",
   "pygments_lexer": "ipython3",
   "version": "3.8.8"
  }
 },
 "nbformat": 4,
 "nbformat_minor": 5
}
