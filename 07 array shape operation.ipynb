{
 "cells": [
  {
   "cell_type": "code",
   "execution_count": 1,
   "id": "8efd3b46",
   "metadata": {},
   "outputs": [],
   "source": [
    "import numpy as np"
   ]
  },
  {
   "cell_type": "code",
   "execution_count": 2,
   "id": "ee1552fb",
   "metadata": {},
   "outputs": [
    {
     "data": {
      "text/plain": [
       "array([[8, 1, 2, 9],\n",
       "       [7, 1, 2, 1],\n",
       "       [0, 9, 1, 2]])"
      ]
     },
     "execution_count": 2,
     "metadata": {},
     "output_type": "execute_result"
    }
   ],
   "source": [
    "a1 = np.random.randint(0,10,size=(3,4))\n",
    "a1"
   ]
  },
  {
   "cell_type": "code",
   "execution_count": 3,
   "id": "3354d8a4",
   "metadata": {},
   "outputs": [
    {
     "data": {
      "text/plain": [
       "array([[8, 1, 2, 9],\n",
       "       [7, 1, 2, 1],\n",
       "       [0, 9, 1, 2]])"
      ]
     },
     "execution_count": 3,
     "metadata": {},
     "output_type": "execute_result"
    }
   ],
   "source": [
    "a1.reshape((2,6))#reshape不改变原数组\n",
    "a1"
   ]
  },
  {
   "cell_type": "code",
   "execution_count": 4,
   "id": "a680a078",
   "metadata": {},
   "outputs": [
    {
     "data": {
      "text/plain": [
       "array([[8, 1, 2],\n",
       "       [9, 7, 1],\n",
       "       [2, 1, 0],\n",
       "       [9, 1, 2]])"
      ]
     },
     "execution_count": 4,
     "metadata": {},
     "output_type": "execute_result"
    }
   ],
   "source": [
    "a1.resize((4,3))#resize改变了原数组\n",
    "a1"
   ]
  },
  {
   "cell_type": "code",
   "execution_count": 5,
   "id": "3e83d24d",
   "metadata": {},
   "outputs": [
    {
     "data": {
      "text/plain": [
       "array([[3, 0, 7, 6],\n",
       "       [9, 9, 4, 9],\n",
       "       [3, 4, 2, 8]])"
      ]
     },
     "execution_count": 5,
     "metadata": {},
     "output_type": "execute_result"
    }
   ],
   "source": [
    "#flatten返回拷贝  ravel返回引用 - 结果就是对ravel返回的值修改会影响原数组 而flatten不会\n",
    "a2 = np.random.randint(0,10,size=(3,4))\n",
    "a2"
   ]
  },
  {
   "cell_type": "code",
   "execution_count": 10,
   "id": "4db1d1eb",
   "metadata": {},
   "outputs": [
    {
     "name": "stdout",
     "output_type": "stream",
     "text": [
      "[[3 0 7 6]\n",
      " [9 9 4 9]\n",
      " [3 4 2 8]]\n"
     ]
    }
   ],
   "source": [
    "a3 = a2.flatten()\n",
    "a3[0]=100\n",
    "print(a2)"
   ]
  },
  {
   "cell_type": "code",
   "execution_count": 11,
   "id": "0b85eec4",
   "metadata": {},
   "outputs": [
    {
     "name": "stdout",
     "output_type": "stream",
     "text": [
      "[[100   0   7   6]\n",
      " [  9   9   4   9]\n",
      " [  3   4   2   8]]\n"
     ]
    }
   ],
   "source": [
    "a4 = a2.ravel()\n",
    "a4[0]=100\n",
    "print(a2)"
   ]
  },
  {
   "cell_type": "code",
   "execution_count": 8,
   "id": "54386e2a",
   "metadata": {},
   "outputs": [
    {
     "data": {
      "text/plain": [
       "array([[3, 0, 7, 6],\n",
       "       [9, 9, 4, 9],\n",
       "       [3, 4, 2, 8]])"
      ]
     },
     "execution_count": 8,
     "metadata": {},
     "output_type": "execute_result"
    }
   ],
   "source": [
    "a2"
   ]
  },
  {
   "cell_type": "code",
   "execution_count": 13,
   "id": "b8863c47",
   "metadata": {},
   "outputs": [
    {
     "data": {
      "text/plain": [
       "array([[1, 1, 0, 4],\n",
       "       [4, 7, 6, 9],\n",
       "       [2, 0, 1, 5]])"
      ]
     },
     "execution_count": 13,
     "metadata": {},
     "output_type": "execute_result"
    }
   ],
   "source": [
    "#数组叠加vstack hstack concatenate\n",
    "vstack1 = np.random.randint(0,10,size=(3,4))\n",
    "vstack1"
   ]
  },
  {
   "cell_type": "code",
   "execution_count": 14,
   "id": "29844aa0",
   "metadata": {},
   "outputs": [
    {
     "data": {
      "text/plain": [
       "array([[0, 9, 0, 0],\n",
       "       [7, 2, 2, 2]])"
      ]
     },
     "execution_count": 14,
     "metadata": {},
     "output_type": "execute_result"
    }
   ],
   "source": [
    "vstack2 = np.random.randint(0,10,size=(2,4))\n",
    "vstack2"
   ]
  },
  {
   "cell_type": "code",
   "execution_count": 20,
   "id": "d682db95",
   "metadata": {},
   "outputs": [
    {
     "name": "stdout",
     "output_type": "stream",
     "text": [
      "[[1 1 0 4]\n",
      " [4 7 6 9]\n",
      " [2 0 1 5]\n",
      " [0 9 0 0]\n",
      " [7 2 2 2]]\n",
      "[[1 1 0 4]\n",
      " [4 7 6 9]\n",
      " [2 0 1 5]\n",
      " [0 9 0 0]\n",
      " [7 2 2 2]]\n"
     ]
    }
   ],
   "source": [
    "vstack3 = np.vstack([vstack1,vstack2])\n",
    "print(vstack3)\n",
    "vstack4 = np.concatenate([vstack1,vstack2],axis=0)\n",
    "print(vstack4)"
   ]
  },
  {
   "cell_type": "code",
   "execution_count": 16,
   "id": "a1e62d64",
   "metadata": {},
   "outputs": [
    {
     "data": {
      "text/plain": [
       "array([[1, 4, 3, 0],\n",
       "       [9, 8, 8, 3],\n",
       "       [7, 7, 4, 2]])"
      ]
     },
     "execution_count": 16,
     "metadata": {},
     "output_type": "execute_result"
    }
   ],
   "source": [
    "h1 = np.random.randint(0,10,size=(3,4))\n",
    "h1"
   ]
  },
  {
   "cell_type": "code",
   "execution_count": 17,
   "id": "1cd3e2d8",
   "metadata": {},
   "outputs": [
    {
     "data": {
      "text/plain": [
       "array([[9],\n",
       "       [9],\n",
       "       [0]])"
      ]
     },
     "execution_count": 17,
     "metadata": {},
     "output_type": "execute_result"
    }
   ],
   "source": [
    "h2 = np.random.randint(0,10,size=(3,1))\n",
    "h2"
   ]
  },
  {
   "cell_type": "code",
   "execution_count": 18,
   "id": "53de8289",
   "metadata": {},
   "outputs": [
    {
     "data": {
      "text/plain": [
       "array([[1, 4, 3, 0, 9],\n",
       "       [9, 8, 8, 3, 9],\n",
       "       [7, 7, 4, 2, 0]])"
      ]
     },
     "execution_count": 18,
     "metadata": {},
     "output_type": "execute_result"
    }
   ],
   "source": [
    "h3 = np.hstack([h1,h2])\n",
    "h3"
   ]
  },
  {
   "cell_type": "code",
   "execution_count": 21,
   "id": "c530f4c9",
   "metadata": {},
   "outputs": [
    {
     "data": {
      "text/plain": [
       "array([1, 1, 0, 4, 4, 7, 6, 9, 2, 0, 1, 5, 0, 9, 0, 0, 7, 2, 2, 2])"
      ]
     },
     "execution_count": 21,
     "metadata": {},
     "output_type": "execute_result"
    }
   ],
   "source": [
    "h4 = np.concatenate([vstack1,vstack2],axis=None)\n",
    "h4"
   ]
  },
  {
   "cell_type": "code",
   "execution_count": 22,
   "id": "af7f64ad",
   "metadata": {},
   "outputs": [
    {
     "name": "stdout",
     "output_type": "stream",
     "text": [
      "[[0 6 2 6]\n",
      " [2 1 9 6]\n",
      " [2 0 4 2]]\n"
     ]
    }
   ],
   "source": [
    "#数组切割 hsplit\n",
    "hs1 = np.random.randint(0,10,size=(3,4))\n",
    "print(hs1)"
   ]
  },
  {
   "cell_type": "code",
   "execution_count": 23,
   "id": "eb8b8c88",
   "metadata": {},
   "outputs": [
    {
     "data": {
      "text/plain": [
       "[array([[0, 6],\n",
       "        [2, 1],\n",
       "        [2, 0]]),\n",
       " array([[2, 6],\n",
       "        [9, 6],\n",
       "        [4, 2]])]"
      ]
     },
     "execution_count": 23,
     "metadata": {},
     "output_type": "execute_result"
    }
   ],
   "source": [
    "np.hsplit(hs1,2)#分成两列"
   ]
  },
  {
   "cell_type": "code",
   "execution_count": 24,
   "id": "a9deac96",
   "metadata": {},
   "outputs": [
    {
     "data": {
      "text/plain": [
       "[array([[0],\n",
       "        [2],\n",
       "        [2]]),\n",
       " array([[6],\n",
       "        [1],\n",
       "        [0]]),\n",
       " array([[2, 6],\n",
       "        [9, 6],\n",
       "        [4, 2]])]"
      ]
     },
     "execution_count": 24,
     "metadata": {},
     "output_type": "execute_result"
    }
   ],
   "source": [
    "np.hsplit(hs1,(1,2))#在对应编号列的前面切割"
   ]
  },
  {
   "cell_type": "code",
   "execution_count": 27,
   "id": "7d1901c2",
   "metadata": {},
   "outputs": [
    {
     "data": {
      "text/plain": [
       "array([[7, 6, 8, 8, 0],\n",
       "       [5, 7, 7, 7, 2],\n",
       "       [9, 2, 6, 7, 6],\n",
       "       [4, 1, 1, 8, 4]])"
      ]
     },
     "execution_count": 27,
     "metadata": {},
     "output_type": "execute_result"
    }
   ],
   "source": [
    "vs1 = np.random.randint(0,10,size=(4,5))\n",
    "vs1"
   ]
  },
  {
   "cell_type": "code",
   "execution_count": 28,
   "id": "a073ffbf",
   "metadata": {},
   "outputs": [
    {
     "data": {
      "text/plain": [
       "[array([[7, 6, 8, 8, 0]]),\n",
       " array([[5, 7, 7, 7, 2]]),\n",
       " array([[9, 2, 6, 7, 6]]),\n",
       " array([[4, 1, 1, 8, 4]])]"
      ]
     },
     "execution_count": 28,
     "metadata": {},
     "output_type": "execute_result"
    }
   ],
   "source": [
    "np.vsplit(vs1,4)"
   ]
  },
  {
   "cell_type": "code",
   "execution_count": 29,
   "id": "bfaa4569",
   "metadata": {},
   "outputs": [
    {
     "data": {
      "text/plain": [
       "[array([[7, 6, 8, 8, 0]]),\n",
       " array([[5, 7, 7, 7, 2],\n",
       "        [9, 2, 6, 7, 6]]),\n",
       " array([[4, 1, 1, 8, 4]])]"
      ]
     },
     "execution_count": 29,
     "metadata": {},
     "output_type": "execute_result"
    }
   ],
   "source": [
    "np.vsplit(vs1,(1,3))"
   ]
  },
  {
   "cell_type": "code",
   "execution_count": 30,
   "id": "a9b265f8",
   "metadata": {},
   "outputs": [],
   "source": [
    "#np.split(vs1,4,axis=0)"
   ]
  },
  {
   "cell_type": "code",
   "execution_count": 31,
   "id": "f3a979e7",
   "metadata": {},
   "outputs": [
    {
     "data": {
      "text/plain": [
       "array([[0, 3, 1, 8],\n",
       "       [0, 0, 8, 5],\n",
       "       [8, 5, 8, 6]])"
      ]
     },
     "execution_count": 31,
     "metadata": {},
     "output_type": "execute_result"
    }
   ],
   "source": [
    "#数组转置\n",
    "t1 = np.random.randint(0,10,size=(3,4))\n",
    "t1 "
   ]
  },
  {
   "cell_type": "code",
   "execution_count": 32,
   "id": "40becff8",
   "metadata": {},
   "outputs": [
    {
     "data": {
      "text/plain": [
       "array([[0, 0, 8],\n",
       "       [3, 0, 5],\n",
       "       [1, 8, 8],\n",
       "       [8, 5, 6]])"
      ]
     },
     "execution_count": 32,
     "metadata": {},
     "output_type": "execute_result"
    }
   ],
   "source": [
    "t1.T\n",
    "#t1.transpose()返回的是引用"
   ]
  },
  {
   "cell_type": "code",
   "execution_count": 33,
   "id": "dfb452a8",
   "metadata": {},
   "outputs": [
    {
     "data": {
      "text/plain": [
       "array([[ 74,  48,  71],\n",
       "       [ 48,  89,  94],\n",
       "       [ 71,  94, 189]])"
      ]
     },
     "execution_count": 33,
     "metadata": {},
     "output_type": "execute_result"
    }
   ],
   "source": [
    "#矩阵相乘\n",
    "t1.dot(t1.T)"
   ]
  },
  {
   "cell_type": "code",
   "execution_count": null,
   "id": "7ae997dd",
   "metadata": {},
   "outputs": [],
   "source": []
  }
 ],
 "metadata": {
  "kernelspec": {
   "display_name": "Python 3",
   "language": "python",
   "name": "python3"
  },
  "language_info": {
   "codemirror_mode": {
    "name": "ipython",
    "version": 3
   },
   "file_extension": ".py",
   "mimetype": "text/x-python",
   "name": "python",
   "nbconvert_exporter": "python",
   "pygments_lexer": "ipython3",
   "version": "3.8.8"
  }
 },
 "nbformat": 4,
 "nbformat_minor": 5
}
