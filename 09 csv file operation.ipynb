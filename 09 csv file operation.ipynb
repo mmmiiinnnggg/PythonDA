{
 "cells": [
  {
   "cell_type": "code",
   "execution_count": 1,
   "id": "b1ac5fba",
   "metadata": {},
   "outputs": [],
   "source": [
    "import numpy as np"
   ]
  },
  {
   "cell_type": "code",
   "execution_count": 2,
   "id": "433538c8",
   "metadata": {},
   "outputs": [
    {
     "data": {
      "text/plain": [
       "array([[14, 51],\n",
       "       [62, 53],\n",
       "       [98,  8],\n",
       "       [60, 24],\n",
       "       [81, 60],\n",
       "       [76, 97],\n",
       "       [60, 62],\n",
       "       [62, 39],\n",
       "       [ 2, 60],\n",
       "       [36, 84],\n",
       "       [13, 85],\n",
       "       [60,  9],\n",
       "       [ 0, 82],\n",
       "       [92, 51],\n",
       "       [58, 27],\n",
       "       [39,  5],\n",
       "       [41, 12],\n",
       "       [17, 38],\n",
       "       [54, 99],\n",
       "       [28, 12]])"
      ]
     },
     "execution_count": 2,
     "metadata": {},
     "output_type": "execute_result"
    }
   ],
   "source": [
    "scores = np.random.randint(0,100,size=(20,2))\n",
    "scores"
   ]
  },
  {
   "cell_type": "code",
   "execution_count": 6,
   "id": "004837f9",
   "metadata": {},
   "outputs": [],
   "source": [
    "np.savetxt(\"scors.csv\",scores,delimiter=\",\",header=\"english,math\",comments = \"\",fmt=\"%d\")"
   ]
  },
  {
   "cell_type": "code",
   "execution_count": 8,
   "id": "f50f95a5",
   "metadata": {},
   "outputs": [
    {
     "data": {
      "text/plain": [
       "array([[14, 51],\n",
       "       [62, 53],\n",
       "       [98,  8],\n",
       "       [60, 24],\n",
       "       [81, 60],\n",
       "       [76, 97],\n",
       "       [60, 62],\n",
       "       [62, 39],\n",
       "       [ 2, 60],\n",
       "       [36, 84],\n",
       "       [13, 85],\n",
       "       [60,  9],\n",
       "       [ 0, 82],\n",
       "       [92, 51],\n",
       "       [58, 27],\n",
       "       [39,  5],\n",
       "       [41, 12],\n",
       "       [17, 38],\n",
       "       [54, 99],\n",
       "       [28, 12]])"
      ]
     },
     "execution_count": 8,
     "metadata": {},
     "output_type": "execute_result"
    }
   ],
   "source": [
    "np.loadtxt(\"scors.csv\",dtype=int,delimiter=\",\",skiprows=1)"
   ]
  },
  {
   "cell_type": "code",
   "execution_count": 9,
   "id": "bc4bd81b",
   "metadata": {},
   "outputs": [],
   "source": [
    "#np独有的存储方案: 特殊数据格式，且可以存储多维数组\n",
    "c = np.random.randint(0,10,size=(10,2))\n",
    "np.save(\"c\",c)#np.savez会压缩数据"
   ]
  },
  {
   "cell_type": "code",
   "execution_count": 10,
   "id": "6c4c59a1",
   "metadata": {},
   "outputs": [
    {
     "data": {
      "text/plain": [
       "array([[0, 8],\n",
       "       [5, 0],\n",
       "       [3, 0],\n",
       "       [5, 9],\n",
       "       [1, 2],\n",
       "       [5, 8],\n",
       "       [3, 8],\n",
       "       [7, 5],\n",
       "       [2, 0],\n",
       "       [9, 2]])"
      ]
     },
     "execution_count": 10,
     "metadata": {},
     "output_type": "execute_result"
    }
   ],
   "source": [
    "c1 = np.load(\"c.npy\")\n",
    "c1"
   ]
  },
  {
   "cell_type": "code",
   "execution_count": null,
   "id": "81b21381",
   "metadata": {},
   "outputs": [],
   "source": []
  }
 ],
 "metadata": {
  "kernelspec": {
   "display_name": "Python 3",
   "language": "python",
   "name": "python3"
  },
  "language_info": {
   "codemirror_mode": {
    "name": "ipython",
    "version": 3
   },
   "file_extension": ".py",
   "mimetype": "text/x-python",
   "name": "python",
   "nbconvert_exporter": "python",
   "pygments_lexer": "ipython3",
   "version": "3.8.8"
  }
 },
 "nbformat": 4,
 "nbformat_minor": 5
}
