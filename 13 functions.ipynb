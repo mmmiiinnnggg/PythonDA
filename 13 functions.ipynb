{
 "cells": [
  {
   "cell_type": "code",
   "execution_count": 2,
   "id": "17ab41cb",
   "metadata": {},
   "outputs": [
    {
     "data": {
      "text/plain": [
       "array([[-8.75153147,  4.97962655, -3.35588057, -8.77109898, -9.8108674 ],\n",
       "       [ 1.31871577,  0.02644098,  2.96662965,  5.36894203,  4.90214104],\n",
       "       [-8.29252699,  6.72310596,  0.61641392, -6.35517315, -9.94844923]])"
      ]
     },
     "execution_count": 2,
     "metadata": {},
     "output_type": "execute_result"
    }
   ],
   "source": [
    "import numpy as np\n",
    "a = np.random.uniform(-10,10,size=(3,5))\n",
    "a"
   ]
  },
  {
   "cell_type": "code",
   "execution_count": 3,
   "id": "18854185",
   "metadata": {},
   "outputs": [
    {
     "data": {
      "text/plain": [
       "array([[8.75153147, 4.97962655, 3.35588057, 8.77109898, 9.8108674 ],\n",
       "       [1.31871577, 0.02644098, 2.96662965, 5.36894203, 4.90214104],\n",
       "       [8.29252699, 6.72310596, 0.61641392, 6.35517315, 9.94844923]])"
      ]
     },
     "execution_count": 3,
     "metadata": {},
     "output_type": "execute_result"
    }
   ],
   "source": [
    "np.abs(a)"
   ]
  },
  {
   "cell_type": "code",
   "execution_count": 5,
   "id": "f5b936f5",
   "metadata": {},
   "outputs": [
    {
     "data": {
      "text/plain": [
       "array([[-8.,  5., -3., -8., -9.],\n",
       "       [ 2.,  1.,  3.,  6.,  5.],\n",
       "       [-8.,  7.,  1., -6., -9.]])"
      ]
     },
     "execution_count": 5,
     "metadata": {},
     "output_type": "execute_result"
    }
   ],
   "source": [
    "np.ceil(a)#朝着无穷大的方向取整"
   ]
  },
  {
   "cell_type": "code",
   "execution_count": 8,
   "id": "c6f6450e",
   "metadata": {},
   "outputs": [
    {
     "data": {
      "text/plain": [
       "3"
      ]
     },
     "execution_count": 8,
     "metadata": {},
     "output_type": "execute_result"
    }
   ],
   "source": [
    "np.floor_divide(7,2)# 相当于/"
   ]
  },
  {
   "cell_type": "markdown",
   "id": "4586ea50",
   "metadata": {},
   "source": [
    "#在Python内置函数和np函数同时存在的时候优先使用np函数"
   ]
  },
  {
   "cell_type": "code",
   "execution_count": 10,
   "id": "b71b6178",
   "metadata": {},
   "outputs": [
    {
     "data": {
      "text/plain": [
       "True"
      ]
     },
     "execution_count": 10,
     "metadata": {},
     "output_type": "execute_result"
    }
   ],
   "source": [
    "#布尔函数和排序函数\n",
    "a.any()"
   ]
  },
  {
   "cell_type": "code",
   "execution_count": 11,
   "id": "ad3a2f99",
   "metadata": {},
   "outputs": [
    {
     "data": {
      "text/plain": [
       "False"
      ]
     },
     "execution_count": 11,
     "metadata": {},
     "output_type": "execute_result"
    }
   ],
   "source": [
    "(a>0).all()"
   ]
  },
  {
   "cell_type": "code",
   "execution_count": 12,
   "id": "9d7d9441",
   "metadata": {},
   "outputs": [
    {
     "data": {
      "text/plain": [
       "array([[-9.8108674 , -8.77109898, -8.75153147, -3.35588057,  4.97962655],\n",
       "       [ 0.02644098,  1.31871577,  2.96662965,  4.90214104,  5.36894203],\n",
       "       [-9.94844923, -8.29252699, -6.35517315,  0.61641392,  6.72310596]])"
      ]
     },
     "execution_count": 12,
     "metadata": {},
     "output_type": "execute_result"
    }
   ],
   "source": [
    "np.sort(a)#按行 不加axis默认从最里面的轴排序"
   ]
  },
  {
   "cell_type": "code",
   "execution_count": 13,
   "id": "87b397c0",
   "metadata": {},
   "outputs": [
    {
     "data": {
      "text/plain": [
       "array([[-8.75153147,  0.02644098, -3.35588057, -8.77109898, -9.94844923],\n",
       "       [-8.29252699,  4.97962655,  0.61641392, -6.35517315, -9.8108674 ],\n",
       "       [ 1.31871577,  6.72310596,  2.96662965,  5.36894203,  4.90214104]])"
      ]
     },
     "execution_count": 13,
     "metadata": {},
     "output_type": "execute_result"
    }
   ],
   "source": [
    "np.sort(a,axis=0)#按列"
   ]
  },
  {
   "cell_type": "code",
   "execution_count": 15,
   "id": "861ffa68",
   "metadata": {},
   "outputs": [
    {
     "data": {
      "text/plain": [
       "array([[7, 2, 2, 9, 4],\n",
       "       [0, 9, 4, 7, 1],\n",
       "       [4, 1, 7, 2, 8]])"
      ]
     },
     "execution_count": 15,
     "metadata": {},
     "output_type": "execute_result"
    }
   ],
   "source": [
    "b = np.random.randint(0,10,size=(3,5))\n",
    "b"
   ]
  },
  {
   "cell_type": "code",
   "execution_count": 16,
   "id": "2913485f",
   "metadata": {},
   "outputs": [
    {
     "data": {
      "text/plain": [
       "array([[2, 2, 4, 7, 9],\n",
       "       [0, 1, 4, 7, 9],\n",
       "       [1, 2, 4, 7, 8]])"
      ]
     },
     "execution_count": 16,
     "metadata": {},
     "output_type": "execute_result"
    }
   ],
   "source": [
    "b.sort()\n",
    "b"
   ]
  },
  {
   "cell_type": "code",
   "execution_count": 17,
   "id": "033365b0",
   "metadata": {},
   "outputs": [
    {
     "data": {
      "text/plain": [
       "array([[0, 1, 2, 3, 4],\n",
       "       [0, 1, 2, 3, 4],\n",
       "       [0, 1, 2, 3, 4]], dtype=int64)"
      ]
     },
     "execution_count": 17,
     "metadata": {},
     "output_type": "execute_result"
    }
   ],
   "source": [
    "np.argsort(b)# argument of sorted array"
   ]
  },
  {
   "cell_type": "code",
   "execution_count": 18,
   "id": "a52ab053",
   "metadata": {},
   "outputs": [
    {
     "data": {
      "text/plain": [
       "array([[9, 7, 4, 2, 2],\n",
       "       [9, 7, 4, 1, 0],\n",
       "       [8, 7, 4, 2, 1]])"
      ]
     },
     "execution_count": 18,
     "metadata": {},
     "output_type": "execute_result"
    }
   ],
   "source": [
    "-np.sort(-b)#按降序排序1"
   ]
  },
  {
   "cell_type": "code",
   "execution_count": 19,
   "id": "628ca890",
   "metadata": {},
   "outputs": [
    {
     "data": {
      "text/plain": [
       "array([[ 4.97962655, -3.35588057, -8.75153147, -8.77109898, -9.8108674 ],\n",
       "       [-8.77109898, -9.8108674 , -3.35588057, -8.75153147,  4.97962655],\n",
       "       [ 4.97962655, -3.35588057, -8.77109898, -8.75153147, -9.8108674 ]])"
      ]
     },
     "execution_count": 19,
     "metadata": {},
     "output_type": "execute_result"
    }
   ],
   "source": [
    "index = np.argsort(-a)#降序排序2\n",
    "np.take(a,index)"
   ]
  },
  {
   "cell_type": "markdown",
   "id": "685d2930",
   "metadata": {},
   "source": [
    "#其他函数"
   ]
  },
  {
   "cell_type": "code",
   "execution_count": 20,
   "id": "32212d0b",
   "metadata": {},
   "outputs": [
    {
     "data": {
      "text/plain": [
       "array([[80, 32, 33, 46, 72, 68, 49, 95, 91, 73, 34, 69, 55, 11, 82, 20,\n",
       "        81, 80, 38, 98],\n",
       "       [32, 68, 80, 46, 97, 19, 58, 78, 84, 15, 98, 31, 22,  4, 79, 69,\n",
       "        46, 33, 91, 44],\n",
       "       [86, 42, 93, 35, 83, 24,  1, 63, 36, 47,  3, 36, 50, 55, 24, 29,\n",
       "         8, 72, 61, 30]])"
      ]
     },
     "execution_count": 20,
     "metadata": {},
     "output_type": "execute_result"
    }
   ],
   "source": [
    "c = np.random.randint(0,100,size=(3,20))\n",
    "c"
   ]
  },
  {
   "cell_type": "code",
   "execution_count": 23,
   "id": "7e6f1466",
   "metadata": {},
   "outputs": [
    {
     "data": {
      "text/plain": [
       "array([61.        , 55.11111111, 43.55555556])"
      ]
     },
     "execution_count": 23,
     "metadata": {},
     "output_type": "execute_result"
    }
   ],
   "source": [
    "#按照我们想要的方式执行函数\n",
    "#axis=1 按照行\n",
    "def get_mean(x):\n",
    "    y = x[np.logical_and(x!=x.max(),x!=x.min())].mean()\n",
    "    return y\n",
    "np.apply_along_axis(get_mean,axis=1,arr=c)"
   ]
  },
  {
   "cell_type": "code",
   "execution_count": 28,
   "id": "f00ed779",
   "metadata": {},
   "outputs": [
    {
     "data": {
      "text/plain": [
       "array([0.        , 0.11111111, 0.22222222, 0.33333333, 0.44444444,\n",
       "       0.55555556, 0.66666667, 0.77777778, 0.88888889, 1.        ])"
      ]
     },
     "execution_count": 28,
     "metadata": {},
     "output_type": "execute_result"
    }
   ],
   "source": [
    "np.linspace(0,1,10)#平均分为几份"
   ]
  },
  {
   "cell_type": "code",
   "execution_count": 29,
   "id": "f2a8a951",
   "metadata": {},
   "outputs": [
    {
     "data": {
      "text/plain": [
       "array([0, 1, 2, 3, 4, 5, 6, 7, 9])"
      ]
     },
     "execution_count": 29,
     "metadata": {},
     "output_type": "execute_result"
    }
   ],
   "source": [
    "d = np.random.randint(0,10,size=(3,5))\n",
    "np.unique(d)#出现的数字"
   ]
  },
  {
   "cell_type": "code",
   "execution_count": 30,
   "id": "b7948922",
   "metadata": {},
   "outputs": [
    {
     "data": {
      "text/plain": [
       "(array([0, 1, 2, 3, 4, 5, 6, 7, 9]),\n",
       " array([1, 1, 2, 3, 2, 2, 1, 2, 1], dtype=int64))"
      ]
     },
     "execution_count": 30,
     "metadata": {},
     "output_type": "execute_result"
    }
   ],
   "source": [
    "np.unique(d,return_counts=True)#出现的数字+出现的次数"
   ]
  },
  {
   "cell_type": "code",
   "execution_count": null,
   "id": "c8137515",
   "metadata": {},
   "outputs": [],
   "source": []
  }
 ],
 "metadata": {
  "kernelspec": {
   "display_name": "Python 3",
   "language": "python",
   "name": "python3"
  },
  "language_info": {
   "codemirror_mode": {
    "name": "ipython",
    "version": 3
   },
   "file_extension": ".py",
   "mimetype": "text/x-python",
   "name": "python",
   "nbconvert_exporter": "python",
   "pygments_lexer": "ipython3",
   "version": "3.8.8"
  }
 },
 "nbformat": 4,
 "nbformat_minor": 5
}
