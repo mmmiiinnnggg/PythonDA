{
 "cells": [
  {
   "cell_type": "code",
   "execution_count": 1,
   "id": "656f4e55",
   "metadata": {},
   "outputs": [],
   "source": [
    "import numpy as np"
   ]
  },
  {
   "cell_type": "code",
   "execution_count": 2,
   "id": "8d2edf59",
   "metadata": {},
   "outputs": [
    {
     "name": "stdout",
     "output_type": "stream",
     "text": [
      "4\n",
      "[4 5]\n",
      "[0 2 4 6 8]\n",
      "9\n"
     ]
    }
   ],
   "source": [
    "# 1. 一维数组的索引和切片\n",
    "a1 = np.arange(10)\n",
    "print(a1[4])\n",
    "print(a1[4:6])\n",
    "print(a1[::2])#使用步长\n",
    "print(a1[-1])#最后一个值"
   ]
  },
  {
   "cell_type": "code",
   "execution_count": 3,
   "id": "b52bae72",
   "metadata": {},
   "outputs": [
    {
     "data": {
      "text/plain": [
       "array([[2, 2, 3, 1, 2, 8],\n",
       "       [8, 9, 4, 8, 9, 6],\n",
       "       [4, 9, 6, 5, 1, 1],\n",
       "       [4, 0, 8, 0, 7, 4]])"
      ]
     },
     "execution_count": 3,
     "metadata": {},
     "output_type": "execute_result"
    }
   ],
   "source": [
    "# 2. 多维数组\n",
    "a2 = np.random.randint(0,10,size=(4,6))\n",
    "a2"
   ]
  },
  {
   "cell_type": "code",
   "execution_count": 4,
   "id": "fc31ca43",
   "metadata": {},
   "outputs": [
    {
     "data": {
      "text/plain": [
       "array([2, 2, 3, 1, 2, 8])"
      ]
     },
     "execution_count": 4,
     "metadata": {},
     "output_type": "execute_result"
    }
   ],
   "source": [
    "a2[0]"
   ]
  },
  {
   "cell_type": "code",
   "execution_count": 5,
   "id": "228c8923",
   "metadata": {},
   "outputs": [
    {
     "data": {
      "text/plain": [
       "array([[8, 9, 4, 8, 9, 6],\n",
       "       [4, 9, 6, 5, 1, 1]])"
      ]
     },
     "execution_count": 5,
     "metadata": {},
     "output_type": "execute_result"
    }
   ],
   "source": [
    "a2[1:3]# 3比2多一位"
   ]
  },
  {
   "cell_type": "code",
   "execution_count": 6,
   "id": "9c56e970",
   "metadata": {},
   "outputs": [
    {
     "data": {
      "text/plain": [
       "array([[2, 2, 3, 1, 2, 8],\n",
       "       [4, 9, 6, 5, 1, 1],\n",
       "       [4, 0, 8, 0, 7, 4]])"
      ]
     },
     "execution_count": 6,
     "metadata": {},
     "output_type": "execute_result"
    }
   ],
   "source": [
    "a2[[0,2,3]]#获取不连续的行"
   ]
  },
  {
   "cell_type": "code",
   "execution_count": 7,
   "id": "4c4aff49",
   "metadata": {},
   "outputs": [
    {
     "data": {
      "text/plain": [
       "9"
      ]
     },
     "execution_count": 7,
     "metadata": {},
     "output_type": "execute_result"
    }
   ],
   "source": [
    "a2[1,1]"
   ]
  },
  {
   "cell_type": "code",
   "execution_count": 8,
   "id": "05018f0c",
   "metadata": {},
   "outputs": [
    {
     "data": {
      "text/plain": [
       "array([9, 1])"
      ]
     },
     "execution_count": 8,
     "metadata": {},
     "output_type": "execute_result"
    }
   ],
   "source": [
    "a2[[1,2],[4,5]] #(1,4)和(2,5)"
   ]
  },
  {
   "cell_type": "code",
   "execution_count": 9,
   "id": "62ce817f",
   "metadata": {},
   "outputs": [
    {
     "data": {
      "text/plain": [
       "array([[9, 6],\n",
       "       [1, 1]])"
      ]
     },
     "execution_count": 9,
     "metadata": {},
     "output_type": "execute_result"
    }
   ],
   "source": [
    "a2[1:3,4:6]"
   ]
  },
  {
   "cell_type": "code",
   "execution_count": 11,
   "id": "423fd5b0",
   "metadata": {},
   "outputs": [
    {
     "data": {
      "text/plain": [
       "array([[2, 1],\n",
       "       [9, 8],\n",
       "       [9, 5],\n",
       "       [0, 0]])"
      ]
     },
     "execution_count": 11,
     "metadata": {},
     "output_type": "execute_result"
    }
   ],
   "source": [
    "a2[:,[1,3]]#获取1，3列"
   ]
  },
  {
   "cell_type": "code",
   "execution_count": 13,
   "id": "ae4e9c0f",
   "metadata": {},
   "outputs": [
    {
     "data": {
      "text/plain": [
       "array([[ 0,  1,  2,  3,  4,  5],\n",
       "       [ 6,  7,  8,  9, 10, 11],\n",
       "       [12, 13, 14, 15, 16, 17],\n",
       "       [18, 19, 20, 21, 22, 23]])"
      ]
     },
     "execution_count": 13,
     "metadata": {},
     "output_type": "execute_result"
    }
   ],
   "source": [
    "# 布尔索引\n",
    "a3 = np.arange(24).reshape((4,6))\n",
    "a3"
   ]
  },
  {
   "cell_type": "code",
   "execution_count": 14,
   "id": "f827f490",
   "metadata": {},
   "outputs": [
    {
     "data": {
      "text/plain": [
       "array([[ True,  True,  True,  True,  True,  True],\n",
       "       [ True,  True,  True,  True,  True,  True],\n",
       "       [ True,  True,  True,  True,  True,  True],\n",
       "       [ True,  True,  True,  True,  True,  True]])"
      ]
     },
     "execution_count": 14,
     "metadata": {},
     "output_type": "execute_result"
    }
   ],
   "source": [
    "a2 < 10"
   ]
  },
  {
   "cell_type": "code",
   "execution_count": 17,
   "id": "241a8fa0",
   "metadata": {},
   "outputs": [
    {
     "data": {
      "text/plain": [
       "array([2, 2, 3, 1, 2, 4, 4, 1, 1, 4, 0, 0, 4])"
      ]
     },
     "execution_count": 17,
     "metadata": {},
     "output_type": "execute_result"
    }
   ],
   "source": [
    "a2[(a2<5) | (a2>10)]"
   ]
  },
  {
   "cell_type": "code",
   "execution_count": 18,
   "id": "8c738331",
   "metadata": {},
   "outputs": [
    {
     "data": {
      "text/plain": [
       "array([[8, 3, 8, 2, 5],\n",
       "       [6, 2, 2, 9, 9],\n",
       "       [7, 9, 0, 9, 7]])"
      ]
     },
     "execution_count": 18,
     "metadata": {},
     "output_type": "execute_result"
    }
   ],
   "source": [
    "#数组值的替换\n",
    "a4 =  np.random.randint(0,10,size=(3,5))\n",
    "a4"
   ]
  },
  {
   "cell_type": "code",
   "execution_count": 20,
   "id": "224b53cb",
   "metadata": {},
   "outputs": [
    {
     "data": {
      "text/plain": [
       "array([[8, 3, 8, 2, 5],\n",
       "       [1, 2, 3, 4, 5],\n",
       "       [7, 9, 0, 9, 7]])"
      ]
     },
     "execution_count": 20,
     "metadata": {},
     "output_type": "execute_result"
    }
   ],
   "source": [
    "a4[1]= np.array([1,2,3,4,5])\n",
    "a4"
   ]
  },
  {
   "cell_type": "code",
   "execution_count": 25,
   "id": "fd4da057",
   "metadata": {},
   "outputs": [
    {
     "data": {
      "text/plain": [
       "array([[8, 3, 8, 1, 5],\n",
       "       [1, 1, 3, 4, 5],\n",
       "       [7, 9, 1, 9, 7]])"
      ]
     },
     "execution_count": 25,
     "metadata": {},
     "output_type": "execute_result"
    }
   ],
   "source": [
    "a4[a4<3] = 1\n",
    "a4"
   ]
  },
  {
   "cell_type": "code",
   "execution_count": 28,
   "id": "5f3c74ae",
   "metadata": {},
   "outputs": [
    {
     "data": {
      "text/plain": [
       "array([[0, 0, 0, 0, 0, 1],\n",
       "       [1, 1, 1, 1, 1, 1],\n",
       "       [1, 1, 1, 1, 1, 1],\n",
       "       [1, 1, 1, 1, 1, 1]])"
      ]
     },
     "execution_count": 28,
     "metadata": {},
     "output_type": "execute_result"
    }
   ],
   "source": [
    "result = np.where( a3<5, 0, 1) #如果满足条件就替换为0，不满足就替换为1\n",
    "result"
   ]
  }
 ],
 "metadata": {
  "kernelspec": {
   "display_name": "Python 3",
   "language": "python",
   "name": "python3"
  },
  "language_info": {
   "codemirror_mode": {
    "name": "ipython",
    "version": 3
   },
   "file_extension": ".py",
   "mimetype": "text/x-python",
   "name": "python",
   "nbconvert_exporter": "python",
   "pygments_lexer": "ipython3",
   "version": "3.8.8"
  }
 },
 "nbformat": 4,
 "nbformat_minor": 5
}
